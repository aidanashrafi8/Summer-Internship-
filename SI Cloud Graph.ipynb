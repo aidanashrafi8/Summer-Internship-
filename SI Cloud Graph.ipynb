{
 "cells": [
  {
   "cell_type": "code",
   "execution_count": null,
   "id": "35c5a535-65cf-4b28-a6f6-960ce29ab65e",
   "metadata": {},
   "outputs": [],
   "source": [
    "import xarray as xr\n",
    "import hvplot.xarray\n",
    "import holoviews as hv\n",
    "import numpy as np\n",
    "from datetime import datetime"
   ]
  },
  {
   "cell_type": "code",
   "execution_count": null,
   "id": "e1cdc841-7761-4177-9840-8c374c26519f",
   "metadata": {},
   "outputs": [],
   "source": [
    "# This function downloads and stores all netcdf files from the Aqua-Modis Satellite for Sable Island, Canada from April 12th to May 2nd, 2016 into a folder called 'data' \n",
    "%run -m phyto_voc.function"
   ]
  },
  {
   "cell_type": "code",
   "execution_count": null,
   "id": "915a21dd-3ab2-463e-8fbd-672e5ab882c7",
   "metadata": {},
   "outputs": [],
   "source": [
    "# To find the proportion of cloud-covered pixels for each file in the 'data' folder we must create a for Loop \n",
    "# Store each new data point in 'adequate' folder \n",
    "# Store each file's date and time in 'datacalendar' folder \n",
    "\n",
    "parent=Path('data')\n",
    "adequate=[]\n",
    "datacalendar=[]\n",
    "\n",
    "for item in assets:\n",
    "    ds=xr.open_dataset(parent/item, group='geophysical_data', engine='netcdf4', format=None, decode_coords=None)\n",
    "    cldice_flag_idx = ds['l2_flags'].attrs['flag_meanings'].split().index('CLDICE')\n",
    "    cldice_flaged_mask = ds['l2_flags'].attrs['flag_masks'][cldice_flag_idx]\n",
    "    ds['cldice'] = np.bitwise_and(ds['l2_flags'], cldice_flaged_mask)//cldice_flaged_mask\n",
    "    tw=xr.open_dataset(parent/item)\n",
    "    date=tw.attrs['time_coverage_start']\n",
    "    date=datetime.fromisoformat(date[:-1])\n",
    "    datacalendar.append(date)\n",
    "    bad=ds['cldice'].sum()\n",
    "    total=ds['cldice'].count()\n",
    "    adequate.append(bad/total)\n"
   ]
  },
  {
   "cell_type": "code",
   "execution_count": null,
   "id": "c369f46c-e1f3-4c3b-8ca1-f26e0915d4f4",
   "metadata": {},
   "outputs": [],
   "source": [
    "# To visualize our new data points we can use hvplot \n",
    "ds=xr.concat(adequate,dim='date')\n",
    "ds=ds.assign_coords({'date':datacalendar})\n",
    "ds.hvplot.line(xlabel='Date',ylabel='Proportion of Cloud-Covered Pixels', title='Sable Island L2 Aqua-MODIS Cloud Data')\n",
    "        "
   ]
  },
  {
   "cell_type": "code",
   "execution_count": null,
   "id": "0bd0b768-c3e2-48dd-b863-3b21f53c4908",
   "metadata": {},
   "outputs": [],
   "source": [
    "# Observations for date ranging April 12th to May 2nd 2016, location: Sable Island \n",
    "\n",
    "# The proportion of cloud-covered pixels follows a daily trend of increasing as the morning begins and peaking around the late afternoon \n",
    "# The proportion of cloud-covered pixels follows a daily trend of decreasing after this late afternoon peak until it reaches a minimum in the early morning\n",
    "# The lowest proportion of cloud-covered pixels ranges daily from around 3 am to 10 am \n",
    "# The highest proportion of cloud-covered pixels ranges daily from around 3 pm to 8 pm \n",
    "\n",
    "# Analysis \n",
    "\n",
    "# The most clear satellite images(lowest proportion of cloud-covered pixels) occur daily in the early morning\n",
    "# The most unclear satellite images(highest proportion of cloud-covered pixels) occur daily in the evening"
   ]
  },
  {
   "cell_type": "code",
   "execution_count": null,
   "id": "a5a908b2-5ed5-497b-b1b2-47f3c0644301",
   "metadata": {},
   "outputs": [],
   "source": [
    "# Below depicts a visual for the chlorophyll concentration and cloud-coverage around Sable Island for April 20th\n",
    "path = 'data/A2016111170000.L2_LAC_OC.nc'\n",
    "ds = xr.open_dataset(path, group='navigation_data')\n",
    "geo = ds[['longitude', 'latitude']]\n",
    "geo = geo.rename_dims({'pixel_control_points': 'pixels_per_line'})\n",
    "ds = xr.open_dataset(path, group='geophysical_data')\n",
    "ds = xr.Dataset(ds[['chlor_a', 'l2_flags']], coords=geo)\n",
    "cldice_flag_idx = ds['l2_flags'].attrs['flag_meanings'].split().index('CLDICE')\n",
    "cldice_flaged_mask = ds['l2_flags'].attrs['flag_masks'][cldice_flag_idx]\n",
    "ds['cldice'] = np.bitwise_and(ds['l2_flags'], cldice_flaged_mask)//cldice_flaged_mask"
   ]
  },
  {
   "cell_type": "code",
   "execution_count": null,
   "id": "0885c2d8-0931-4edd-9884-daf790fc519d",
   "metadata": {},
   "outputs": [],
   "source": [
    "# This is the chlorophyll concentration image\n",
    "hv.extension('bokeh')\n",
    "\n",
    "ds.hvplot.quadmesh(x='longitude', y='latitude', z='chlor_a', rasterize=True)"
   ]
  },
  {
   "cell_type": "code",
   "execution_count": null,
   "id": "2e37880e-3a6c-4837-a845-aad4effe9c08",
   "metadata": {},
   "outputs": [],
   "source": [
    "# This is the cloud covered image \n",
    "hv.extension('bokeh')\n",
    "\n",
    "ds.hvplot.quadmesh(x='longitude', y='latitude', z='cldice', rasterize=True)"
   ]
  },
  {
   "cell_type": "code",
   "execution_count": null,
   "id": "e3a38306-47b2-4e90-8361-7e83dc9814f6",
   "metadata": {},
   "outputs": [],
   "source": []
  },
  {
   "cell_type": "code",
   "execution_count": null,
   "id": "d4d0aa0f-3e61-4c78-93ee-55f532487aec",
   "metadata": {},
   "outputs": [],
   "source": []
  }
 ],
 "metadata": {
  "kernelspec": {
   "display_name": "Python 3 (ipykernel)",
   "language": "python",
   "name": "python3"
  },
  "language_info": {
   "codemirror_mode": {
    "name": "ipython",
    "version": 3
   },
   "file_extension": ".py",
   "mimetype": "text/x-python",
   "name": "python",
   "nbconvert_exporter": "python",
   "pygments_lexer": "ipython3",
   "version": "3.10.5"
  },
  "vscode": {
   "interpreter": {
    "hash": "77c5551447afbe629163f39edc0c3b8942f190c3195ca330892c5d327c99e8d5"
   }
  }
 },
 "nbformat": 4,
 "nbformat_minor": 5
}
