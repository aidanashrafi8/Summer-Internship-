{
 "cells": [
  {
   "cell_type": "code",
   "execution_count": null,
   "id": "af5c23ce-578e-44f1-87f7-4d0d1700f3d4",
   "metadata": {},
   "outputs": [],
   "source": [
    "# This function downloads and stores all netcdf files from the Aqua-Modis Satellite for Sable Island, Canada from April 12th to May 2nd, 2016 into a folder called 'data' \n",
    "%run -m phyto_voc.function"
   ]
  },
  {
   "cell_type": "code",
   "execution_count": null,
   "id": "4e4b1412-3357-4b91-8ba0-848d0518dc93",
   "metadata": {},
   "outputs": [],
   "source": [
    "import xarray as xr\n",
    "import hvplot.xarray\n",
    "import holoviews as hv\n",
    "import numpy as np\n",
    "from datetime import datetime"
   ]
  },
  {
   "cell_type": "code",
   "execution_count": null,
   "id": "047fe4b1-b83e-42e2-9493-370833b82160",
   "metadata": {},
   "outputs": [],
   "source": [
    "# To find the proportion of non-null chlorophyll pixels for each file in the 'data' folder we must create a for loop \n",
    "# Store each new data point in 'adequate' folder\n",
    "# Store each file's date and time in 'datacalender' folder\n",
    "parent=Path('data')\n",
    "adequate=[]\n",
    "datacalendar=[]\n",
    "for item in assets:\n",
    "    parent/item\n",
    "    ds=xr.open_dataset(parent/item, group='geophysical_data', engine='netcdf4', format=None, decode_coords=None)\n",
    "    tw=xr.open_dataset(parent/item)\n",
    "    date=tw.attrs['time_coverage_start']\n",
    "    date=datetime.fromisoformat(date[:-1])\n",
    "    datacalendar.append(date)\n",
    "    good=ds['chlor_a'].count()\n",
    "    total=ds['chlor_a'].size\n",
    "    adequate.append(good/total)\n"
   ]
  },
  {
   "cell_type": "code",
   "execution_count": null,
   "id": "eddfe3d8-3bb3-4036-8956-6bd24ceb8d8a",
   "metadata": {},
   "outputs": [],
   "source": [
    "# To be able to visualize our new data points we can use hvplot \n",
    "ds=xr.concat(adequate,dim='date')\n",
    "ds=ds.assign_coords({'date':datacalendar})\n",
    "ds.hvplot.line(xlabel='Date',ylabel='Proportion of Non-null Chlorophyll Pixels', title='Sable Island L2 Aqua-MODIS Chlorophyll Data')\n",
    "        "
   ]
  },
  {
   "cell_type": "code",
   "execution_count": null,
   "id": "cbccf52f-868b-41c8-b56b-aea5923484b8",
   "metadata": {},
   "outputs": [],
   "source": [
    "# Observations for Date Ranging April 12th to May 2nd 2016, location: Sable Island \n",
    "\n",
    "# From around 3 am to 10 am, there is a daily pattern in which the proportion of non-null chlorophyll pixels plateaus to 0.\n",
    "# From 2 pm to 8 pm, there is a daily pattern in which the proportion of non-null chlorophyll pixels reaches its peak. \n",
    "# The highest proportion of non-null chlorophyll pixels occurs daily somewhere in between around 2 pm to 8 pm \n",
    "# The lowest proportion of non-null chlorophyll pixels occurs daily somewhere in between around 3 am to 10 am \n",
    "\n",
    "# Analysis \n",
    "\n",
    "# The most clear satellite images(highest proportion of non-null chlorophyll pixels) occur daily in the evening \n",
    "# The most unclear satellite images(lowest proportion of non-null chlorophyll pixels) occur daily in the early morning\n"
   ]
  },
  {
   "cell_type": "code",
   "execution_count": null,
   "id": "3fe0ee51-4257-454b-84bd-d857058d34c8",
   "metadata": {},
   "outputs": [],
   "source": []
  },
  {
   "cell_type": "code",
   "execution_count": null,
   "id": "e0f6990e-1cb1-45b4-b918-4f7757f30b83",
   "metadata": {},
   "outputs": [],
   "source": []
  }
 ],
 "metadata": {
  "kernelspec": {
   "display_name": "Python 3 (ipykernel)",
   "language": "python",
   "name": "python3"
  },
  "language_info": {
   "codemirror_mode": {
    "name": "ipython",
    "version": 3
   },
   "file_extension": ".py",
   "mimetype": "text/x-python",
   "name": "python",
   "nbconvert_exporter": "python",
   "pygments_lexer": "ipython3",
   "version": "3.10.5"
  },
  "vscode": {
   "interpreter": {
    "hash": "77c5551447afbe629163f39edc0c3b8942f190c3195ca330892c5d327c99e8d5"
   }
  }
 },
 "nbformat": 4,
 "nbformat_minor": 5
}
