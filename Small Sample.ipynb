{
 "cells": [
  {
   "cell_type": "code",
   "execution_count": null,
   "id": "ad40d2db-a8ff-426e-ac56-74ded8d47390",
   "metadata": {},
   "outputs": [],
   "source": [
    "import xarray as xr\n",
    "import pandas as pd \n",
    "import hvplot.xarray \n",
    "import netCDF4 as nc \n",
    "\n",
    "# The data in the Aqua-Modis Folder contains 7 netcdf files from the Aqua-Modis satellite from April 22nd, 2016 +/- 3 days\n",
    "# User warning: this data does not reveal anything about Sable Island in specific as its purpose was to learn how to read and extract information from netcdf files\n",
    "a=xr.open_dataset('Aqua-MODIS/A2016110000000.L2_LAC_OC.nc',group='geophysical_data', engine='netcdf4', format=None, decode_coords=None)\n",
    "b=xr.open_dataset('Aqua-MODIS/A2016111000500.L2_LAC_OC.nc',group='geophysical_data', engine='netcdf4', format=None, decode_coords=None)\n",
    "c=xr.open_dataset('Aqua-MODIS/A2016112004000.L2_LAC_OC.nc',group='geophysical_data', format=None)\n",
    "d=xr.open_dataset('Aqua-MODIS/A2016113000000.L2_LAC_OC.nc',group='geophysical_data', format=None, decode_coords=None, persist=True)\n",
    "e=xr.open_dataset('Aqua-MODIS/A2016114003000.L2_LAC_OC.nc',group='geophysical_data', format=None, decode_coords=None)\n",
    "f=xr.open_dataset('Aqua-MODIS/A2016115000000.L2_LAC_OC.nc',group='geophysical_data', format=None, decode_coords=None)\n",
    "g=xr.open_dataset('Aqua-MODIS/A2016116001500.L2_LAC_OC.nc',group='geophysical_data', format=None, decode_coords=None)"
   ]
  },
  {
   "cell_type": "code",
   "execution_count": null,
   "id": "77f78a18-65c5-4133-addf-1cb3873beef3",
   "metadata": {},
   "outputs": [],
   "source": [
    "# The use of count and size to find the proportion of non-null chlorophyll pixels in each file\n",
    "# The use of hvplot to be able to visualize findings\n",
    "# April 19th\n",
    "good=a['chlor_a'].count()\n",
    "total=a['chlor_a'].size\n",
    "adequate1=(good/total)\n",
    "a['chlor_a'].hvplot.image()\n"
   ]
  },
  {
   "cell_type": "code",
   "execution_count": null,
   "id": "48dcb604-c367-48e9-b304-d7956eb05a02",
   "metadata": {},
   "outputs": [],
   "source": [
    "# April 20th \n",
    "good=b['chlor_a'].count()\n",
    "total=b['chlor_a'].size\n",
    "adequate2=(good/total)\n",
    "b['chlor_a'].hvplot.image()"
   ]
  },
  {
   "cell_type": "code",
   "execution_count": null,
   "id": "7531d939-aac9-4ab4-90a9-7bbc56f999c0",
   "metadata": {},
   "outputs": [],
   "source": [
    "# April 21st \n",
    "good=c['chlor_a'].count()\n",
    "total=c['chlor_a'].size\n",
    "adequate3=(good/total)\n",
    "c['chlor_a'].hvplot.image()\n"
   ]
  },
  {
   "cell_type": "code",
   "execution_count": null,
   "id": "799659d8-9ae8-4517-be54-40cf2d9f5283",
   "metadata": {},
   "outputs": [],
   "source": [
    "#April 22nd\n",
    "good=d['chlor_a'].count()\n",
    "total=d['chlor_a'].size\n",
    "adequate4=(good/total)\n",
    "d['chlor_a'].hvplot.image()"
   ]
  },
  {
   "cell_type": "code",
   "execution_count": null,
   "id": "92c6cc92-3faa-4dd1-a926-c64e3c594e7b",
   "metadata": {},
   "outputs": [],
   "source": [
    "# April 23rd\n",
    "good=e['chlor_a'].count()\n",
    "total=e['chlor_a'].size\n",
    "adequate5=(good/total)\n",
    "e['chlor_a'].hvplot.image()"
   ]
  },
  {
   "cell_type": "code",
   "execution_count": null,
   "id": "a1c8d596-9d1f-4151-a1e7-20710848208a",
   "metadata": {},
   "outputs": [],
   "source": [
    "# April 24th\n",
    "good=f['chlor_a'].count()\n",
    "total= f['chlor_a'].size\n",
    "adequate6=(good/total)\n",
    "f['chlor_a'].hvplot.image()"
   ]
  },
  {
   "cell_type": "code",
   "execution_count": null,
   "id": "31a9143a-23c7-418b-9223-a0cf604f3307",
   "metadata": {},
   "outputs": [],
   "source": [
    "# April 25th \n",
    "good=g['chlor_a'].count()\n",
    "total=g['chlor_a'].size\n",
    "adequate7=(good/total)    \n",
    "g['chlor_a'].hvplot.image()"
   ]
  },
  {
   "cell_type": "code",
   "execution_count": null,
   "id": "81f3923f-1e91-4e2c-93af-dc2b8d7cab71",
   "metadata": {},
   "outputs": [],
   "source": [
    "adequate=[adequate1,adequate2,adequate3, adequate4, adequate5, adequate6, adequate7]"
   ]
  },
  {
   "cell_type": "code",
   "execution_count": null,
   "id": "4e41537b-723c-4d18-83b4-1e7c0f708eaa",
   "metadata": {},
   "outputs": [],
   "source": [
    "ds=xr.concat(adequate, dim='date')"
   ]
  },
  {
   "cell_type": "code",
   "execution_count": null,
   "id": "ebeccd93-9b72-4324-85d1-09a67576a040",
   "metadata": {},
   "outputs": [],
   "source": [
    "ds=ds.assign_coords({'date':[19,20,21,22,23,24,25]})"
   ]
  },
  {
   "cell_type": "code",
   "execution_count": null,
   "id": "2e05ebe1-f7d4-4b4d-b508-696e841fce8a",
   "metadata": {},
   "outputs": [],
   "source": [
    "ds.hvplot.line(xlabel='April 22nd, 2016 +/- 3 days', ylabel= 'proportion of non-null chlorophyll pixels', title='First NASA Python Data Image')"
   ]
  },
  {
   "cell_type": "code",
   "execution_count": null,
   "id": "a0272ca7-7d0c-4104-9c27-928a93b5e89c",
   "metadata": {},
   "outputs": [],
   "source": []
  },
  {
   "cell_type": "code",
   "execution_count": null,
   "id": "8dc4fa0f-f838-4c62-abed-18fec24fb78a",
   "metadata": {},
   "outputs": [],
   "source": []
  },
  {
   "cell_type": "code",
   "execution_count": null,
   "id": "2b2ba505-e50c-4991-a0ca-f1980754766f",
   "metadata": {},
   "outputs": [],
   "source": []
  },
  {
   "cell_type": "code",
   "execution_count": null,
   "id": "596e669d-fbdc-4321-9847-320d2fcac1be",
   "metadata": {},
   "outputs": [],
   "source": []
  },
  {
   "cell_type": "code",
   "execution_count": null,
   "id": "046deb47-2b4f-4b48-9fcc-da4863b4a557",
   "metadata": {},
   "outputs": [],
   "source": []
  },
  {
   "cell_type": "code",
   "execution_count": null,
   "id": "d422ff47-90be-4145-bd85-f9c2d76318fc",
   "metadata": {},
   "outputs": [],
   "source": []
  },
  {
   "cell_type": "code",
   "execution_count": null,
   "id": "3339c560-6df0-4c7e-a1e1-aa830d948732",
   "metadata": {},
   "outputs": [],
   "source": []
  }
 ],
 "metadata": {
  "kernelspec": {
   "display_name": "Python 3 (ipykernel)",
   "language": "python",
   "name": "python3"
  },
  "language_info": {
   "codemirror_mode": {
    "name": "ipython",
    "version": 3
   },
   "file_extension": ".py",
   "mimetype": "text/x-python",
   "name": "python",
   "nbconvert_exporter": "python",
   "pygments_lexer": "ipython3",
   "version": "3.10.5"
  },
  "vscode": {
   "interpreter": {
    "hash": "77c5551447afbe629163f39edc0c3b8942f190c3195ca330892c5d327c99e8d5"
   }
  }
 },
 "nbformat": 4,
 "nbformat_minor": 5
}
